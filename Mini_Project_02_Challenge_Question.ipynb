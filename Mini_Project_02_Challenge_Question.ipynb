{
  "nbformat": 4,
  "nbformat_minor": 0,
  "metadata": {
    "colab": {
      "provenance": [],
      "authorship_tag": "ABX9TyMWdMmPHzSr8bbN4nihheSn",
      "include_colab_link": true
    },
    "kernelspec": {
      "name": "python3",
      "display_name": "Python 3"
    },
    "language_info": {
      "name": "python"
    }
  },
  "cells": [
    {
      "cell_type": "markdown",
      "metadata": {
        "id": "view-in-github",
        "colab_type": "text"
      },
      "source": [
        "<a href=\"https://colab.research.google.com/github/JAK0707/Mini-Project-02-Challenge-Question-Python/blob/main/Mini_Project_02_Challenge_Question.ipynb\" target=\"_parent\"><img src=\"https://colab.research.google.com/assets/colab-badge.svg\" alt=\"Open In Colab\"/></a>"
      ]
    },
    {
      "cell_type": "code",
      "execution_count": 1,
      "metadata": {
        "colab": {
          "base_uri": "https://localhost:8080/"
        },
        "id": "PfP5-IUarBRl",
        "outputId": "b63c6b77-faff-4dfd-ebcd-dd9e8adfe763"
      },
      "outputs": [
        {
          "output_type": "stream",
          "name": "stdout",
          "text": [
            "['Aman', 'Ram', 'Shyam', 1, 2, 3]\n"
          ]
        }
      ],
      "source": [
        "L = [\"Ram\", 1, \"Shyam\", 2, \"Aman\", 3]\n",
        "\n",
        "# Define a custom sorting function\n",
        "def custom_sort(item):\n",
        "    if isinstance(item, str):\n",
        "        return (0, item)\n",
        "    elif isinstance(item, int):\n",
        "        return (1, item)\n",
        "    else:\n",
        "        return (2, item)\n",
        "\n",
        "# Sort the list using the custom sorting function\n",
        "sorted_L = sorted(L, key=custom_sort)\n",
        "\n",
        "print(sorted_L)"
      ]
    },
    {
      "cell_type": "code",
      "source": [],
      "metadata": {
        "id": "2CsUsBGDrEZh"
      },
      "execution_count": null,
      "outputs": []
    }
  ]
}